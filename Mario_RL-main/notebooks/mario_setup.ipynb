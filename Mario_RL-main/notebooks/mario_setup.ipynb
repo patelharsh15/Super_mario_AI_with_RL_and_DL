{
 "cells": [
  {
   "cell_type": "code",
   "execution_count": 36,
   "metadata": {},
   "outputs": [],
   "source": [
    "# Importing required libraries to run super mario bros on gym\n",
    "from nes_py.wrappers import JoypadSpace\n",
    "import gym_super_mario_bros\n",
    "from gym.wrappers import GrayScaleObservation\n",
    "from pathlib import Path\n",
    "from gym_super_mario_bros.actions import SIMPLE_MOVEMENT"
   ]
  },
  {
   "cell_type": "code",
   "execution_count": 47,
   "metadata": {},
   "outputs": [
    {
     "name": "stdout",
     "output_type": "stream",
     "text": [
      "7\n",
      "<class 'pathlib.WindowsPath'>\n"
     ]
    }
   ],
   "source": [
    "env = gym_super_mario_bros.make(\"SuperMarioBros-v0\")\n",
    "env = JoypadSpace(env, SIMPLE_MOVEMENT)\n",
    "env = GrayScaleObservation(env, keep_dim=True)\n",
    "print(env.action_space.n)\n",
    "\n",
    "path = Path('checkpoints')\n",
    "print(type(path))"
   ]
  },
  {
   "cell_type": "code",
   "execution_count": 48,
   "metadata": {},
   "outputs": [
    {
     "data": {
      "text/plain": [
       "True"
      ]
     },
     "execution_count": 48,
     "metadata": {},
     "output_type": "execute_result"
    }
   ],
   "source": [
    "import torch\n",
    "torch.cuda.is_available()"
   ]
  },
  {
   "cell_type": "code",
   "execution_count": 49,
   "metadata": {},
   "outputs": [
    {
     "name": "stdout",
     "output_type": "stream",
     "text": [
      "tensor([True])\n"
     ]
    },
    {
     "data": {
      "text/plain": [
       "tensor([True])"
      ]
     },
     "execution_count": 49,
     "metadata": {},
     "output_type": "execute_result"
    }
   ],
   "source": [
    "# Testing tensor types\n",
    "done = True\n",
    "tensor_done = torch.tensor([done])\n",
    "print(tensor_done)\n",
    "t_done = torch.BoolTensor([done])\n",
    "t_done"
   ]
  },
  {
   "cell_type": "code",
   "execution_count": 50,
   "metadata": {},
   "outputs": [
    {
     "name": "stdout",
     "output_type": "stream",
     "text": [
      "(array([[[140],\n",
      "        [140],\n",
      "        [140],\n",
      "        ...,\n",
      "        [140],\n",
      "        [140],\n",
      "        [140]],\n",
      "\n",
      "       [[140],\n",
      "        [140],\n",
      "        [140],\n",
      "        ...,\n",
      "        [140],\n",
      "        [140],\n",
      "        [140]],\n",
      "\n",
      "       [[140],\n",
      "        [140],\n",
      "        [140],\n",
      "        ...,\n",
      "        [140],\n",
      "        [140],\n",
      "        [140]],\n",
      "\n",
      "       ...,\n",
      "\n",
      "       [[214],\n",
      "        [124],\n",
      "        [124],\n",
      "        ...,\n",
      "        [124],\n",
      "        [124],\n",
      "        [  0]],\n",
      "\n",
      "       [[214],\n",
      "        [124],\n",
      "        [124],\n",
      "        ...,\n",
      "        [124],\n",
      "        [  0],\n",
      "        [  0]],\n",
      "\n",
      "       [[124],\n",
      "        [  0],\n",
      "        [  0],\n",
      "        ...,\n",
      "        [  0],\n",
      "        [  0],\n",
      "        [124]]], dtype=uint8), 0.0, False, {'coins': 0, 'flag_get': False, 'life': 2, 'score': 0, 'stage': 1, 'status': 'small', 'time': 400, 'world': 1, 'x_pos': 40, 'x_pos_screen': 40, 'y_pos': 79})\n"
     ]
    }
   ],
   "source": [
    "# setting up gym environment and running a short game\n",
    "done = True\n",
    "for step in range(5000):\n",
    "    if done:\n",
    "        state = env.reset()\n",
    "    state_tensor = torch.FloatTensor(state).cuda().unsqueeze(0)\n",
    "    state, reward, done, info = env.step(env.action_space.sample())\n",
    "    env.render()\n",
    "env.close() \n"
   ]
  },
  {
   "cell_type": "code",
   "execution_count": null,
   "metadata": {},
   "outputs": [],
   "source": []
  }
 ],
 "metadata": {
  "kernelspec": {
   "display_name": "mario_gpu",
   "language": "python",
   "name": "python3"
  },
  "language_info": {
   "codemirror_mode": {
    "name": "ipython",
    "version": 3
   },
   "file_extension": ".py",
   "mimetype": "text/x-python",
   "name": "python",
   "nbconvert_exporter": "python",
   "pygments_lexer": "ipython3",
   "version": "3.11.3"
  },
  "orig_nbformat": 4
 },
 "nbformat": 4,
 "nbformat_minor": 2
}
